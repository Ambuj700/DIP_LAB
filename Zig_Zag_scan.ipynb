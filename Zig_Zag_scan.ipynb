# Importing required libraries
import numpy as np

# Input Matrix (image matrix)
matrix = np.array([[1,2,6,7], [3,5,8,13], [4,9,12,14], [10,11,15,16]])

no_of_rows = len(matrix)
no_of_cols = len(matrix[0])

# Printing Input Matrix
print('Input Matrix :')
print(matrix)

# Temperary list for storing output values in multiple lists based on sum of index 
temp_out = []

# Temperary list containing 7 empty list to store values at sum of index( 0 to 6) in separate lists
for i in range(7):
    temp_out.append([])


for i in range(no_of_rows):
    for j in range(no_of_cols):
        # Sum of index of input matrix
        sum = i+j
        
        # If sum of index is odd then append the value at that index
        if (sum % 2 != 0):
            temp_out[sum].append(matrix[i][j])
        
        # If sum of index is even then insert the value at first postion with that index
        else :
            temp_out[sum].insert(0,matrix[i][j])

# Combining all lists with sum of index as 0 to 6 
output_matrix = []

# Printing Output Matrix
for i in range(7):
    output_matrix = output_matrix + temp_out[i] 

# Converting Output List to Array and printing it
output_matrix = np.asarray(output_matrix)
print('\nOutput Matrix :')
print(output_matrix)
Input Matrix :
[[ 1  2  6  7]
 [ 3  5  8 13]
 [ 4  9 12 14]
 [10 11 15 16]]

Output Matrix :
[ 1  2  3  4  5  6  7  8  9 10 11 12 13 14 15 16]
