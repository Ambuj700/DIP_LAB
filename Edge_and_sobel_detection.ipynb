Edge  detection-

import numpy as np
import cv2 
from matplotlib import pyplot as plt

#Reading Original Image 
original_image = cv2.imread('Lenna.png')

# Converting Original Image to Gray Scale Image
gray_image = cv2.cvtColor(original_image,cv2.COLOR_BGR2GRAY)

# Canny Edge Detection
canny_edge = cv2.Canny(gray_image, 100, 200)

# Plotting Original Gray Scale Image
plt.subplot(121)
plt.imshow(gray_image, cmap = 'gray')
plt.title('Original Image'), plt.xticks([]), plt.yticks([])

# Plotting Image after Canny Edge Detection
plt.subplot(122)
plt.imshow(canny_edge, cmap = 'gray')
plt.title('Image after Canny Edge Detection'), plt.xticks([]), plt.yticks([])
plt.show()
   
Sobel detection-
# Sobel Edge Detection
sobelx = cv2.Sobel(gray_image, cv2.CV_64F,1,0,ksize=5)
sobely = cv2.Sobel(gray_image, cv2.CV_64F,0,1,ksize=5)

# Plotting Original Image
plt.subplot(2,2,1)
plt.imshow(gray_image, cmap = 'gray')
plt.title('Original'), plt.xticks([]), plt.yticks([])

# Plotting Sobel X
plt.subplot(2,2,3)
plt.imshow(sobelx,cmap = 'gray')
plt.title('Sobel X'), plt.xticks([]), plt.yticks([])

# Plotting Sobel Y
plt.subplot(2,2,4)
plt.imshow(sobely,cmap = 'gray')
plt.title('Sobel Y'), plt.xticks([]), plt.yticks([])

plt.show()
